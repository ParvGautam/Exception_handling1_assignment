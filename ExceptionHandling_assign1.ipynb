{
 "cells": [
  {
   "cell_type": "code",
   "execution_count": null,
   "id": "0b97f57c-9e05-457d-bbf7-27ff42e7361a",
   "metadata": {},
   "outputs": [],
   "source": [
    "#Anwer 1\n",
    "\"\"\"Exception handling allows you to separate error-handling code from normal code. An exception is a Python \n",
    "object which represents an error. As with code comments, exceptions helps you to remind yourself of what the \n",
    "program expects. It clarifies the code and enhances readability.\"\"\"\n",
    "#diffrence between exception handling syntax error\n",
    "\"\"\"An Exception is an event that occurs during the program execution and disrupts the normal flow of the \n",
    "program's execution. Errors mostly happen at compile-time like syntax error; however it can happen at runtime as\n",
    "well. Whereas an Exception occurs at runtime (checked exceptions can be detected at compile time).\"\"\""
   ]
  },
  {
   "cell_type": "code",
   "execution_count": null,
   "id": "97fcabc3-ba70-4a91-a87d-85873b566242",
   "metadata": {},
   "outputs": [],
   "source": [
    "#Answer 2\n",
    "\"\"\"If an exception occurs during execution of the try clause, the exception may be handled by an except clause. \n",
    "If the exception is not handled by an except clause, the exception is re-raised after the finally clause has\n",
    "been executed.\"\"\"\n",
    "\n",
    "#Example\n"
   ]
  },
  {
   "cell_type": "code",
   "execution_count": 1,
   "id": "089d23c3-41e3-4760-b577-b4550820b435",
   "metadata": {},
   "outputs": [
    {
     "name": "stdout",
     "output_type": "stream",
     "text": [
      "division by zero\n"
     ]
    }
   ],
   "source": [
    "#Answer 3\n",
    "\"\"\"The try and except block in Python is used to catch and handle exceptions.\"\"\"\n",
    "try:\n",
    "    10/0\n",
    "except ZeroDivisionError as e:\n",
    "    print(e)"
   ]
  },
  {
   "cell_type": "code",
   "execution_count": null,
   "id": "e2447db9-26af-460e-8bd7-600b67aa514a",
   "metadata": {},
   "outputs": [],
   "source": [
    "#Answer 4\n",
    "#try and except block\n",
    "try:\n",
    "    10/0\n",
    "except ZeroDivisionError as e:\n",
    "    print(e)"
   ]
  },
  {
   "cell_type": "code",
   "execution_count": 2,
   "id": "15062a40-fe79-4f5f-9f86-4adb44460815",
   "metadata": {},
   "outputs": [
    {
     "name": "stdout",
     "output_type": "stream",
     "text": [
      "Error: Denominator cannot be 0.\n",
      "This is finally block.\n"
     ]
    }
   ],
   "source": [
    "# finally\n",
    "try:\n",
    "    numerator = 10\n",
    "    denominator = 0\n",
    "\n",
    "    result = numerator/denominator\n",
    "\n",
    "    print(result)\n",
    "except:\n",
    "    print(\"Error: Denominator cannot be 0.\")\n",
    "    \n",
    "finally:\n",
    "    print(\"This is finally block.\")"
   ]
  },
  {
   "cell_type": "code",
   "execution_count": 7,
   "id": "e1cea736-f636-4fea-b9af-744c628d1aa1",
   "metadata": {},
   "outputs": [
    {
     "name": "stdin",
     "output_type": "stream",
     "text": [
      "Please enter your roll number -1\n"
     ]
    },
    {
     "name": "stdout",
     "output_type": "stream",
     "text": [
      "ValueError Exception thrown\n",
      "Outside of try-except clauses.\n"
     ]
    }
   ],
   "source": [
    "#raise\n",
    "try:\n",
    "    roll = int(input(\"Please enter your roll number\"))\n",
    "    if roll <= 0:\n",
    "        raise ValueError()\n",
    "\n",
    "except ValueError:\n",
    "    print(\"ValueError Exception thrown\")\n",
    "\n",
    "print(\"Outside of try-except clauses.\")"
   ]
  },
  {
   "cell_type": "code",
   "execution_count": 13,
   "id": "cad7799e-848e-4144-96f1-2d6c2b786785",
   "metadata": {},
   "outputs": [
    {
     "name": "stdin",
     "output_type": "stream",
     "text": [
      "Enter a number:  1\n"
     ]
    },
    {
     "name": "stdout",
     "output_type": "stream",
     "text": [
      "Exception occurred: Invalid Age\n"
     ]
    }
   ],
   "source": [
    "#Answer 5\n",
    "\"\"\"Having custom exceptions - tailored to your specific use cases and that you can raise and catch in specific \n",
    "circumstances - can make your code much more readable and robust, and reduce the amount of code you write later\n",
    "to try and figure out what exactly went wrong.\"\"\"\n",
    "#example\n",
    "\n",
    "class InvalidAgeException(Exception):\n",
    "    \"Raised when the input value is less than 18\"\n",
    "    pass\n",
    "\n",
    "# you need to guess this number\n",
    "number = 18\n",
    "\n",
    "try:\n",
    "    input_num = int(input(\"Enter a number: \"))\n",
    "    if input_num < number:\n",
    "        raise InvalidAgeException\n",
    "    else:\n",
    "        print(\"Eligible to Vote\")\n",
    "        \n",
    "except InvalidAgeException:\n",
    "    print(\"Exception occurred: Invalid Age\")"
   ]
  },
  {
   "cell_type": "code",
   "execution_count": null,
   "id": "0b187866-3b12-4e86-aea1-0adc8dad188f",
   "metadata": {},
   "outputs": [],
   "source": [
    "#Answer 6\n"
   ]
  }
 ],
 "metadata": {
  "kernelspec": {
   "display_name": "Python 3 (ipykernel)",
   "language": "python",
   "name": "python3"
  },
  "language_info": {
   "codemirror_mode": {
    "name": "ipython",
    "version": 3
   },
   "file_extension": ".py",
   "mimetype": "text/x-python",
   "name": "python",
   "nbconvert_exporter": "python",
   "pygments_lexer": "ipython3",
   "version": "3.10.8"
  }
 },
 "nbformat": 4,
 "nbformat_minor": 5
}
